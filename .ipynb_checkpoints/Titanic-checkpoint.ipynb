{
 "cells": [
  {
   "cell_type": "code",
   "execution_count": 173,
   "metadata": {},
   "outputs": [],
   "source": [
    "import pandas as pd\n",
    "import numpy as np\n",
    "from sklearn.model_selection import train_test_split\n",
    "from sklearn.preprocessing import MinMaxScaler\n",
    "from sklearn.linear_model import LogisticRegression, SGDClassifier\n",
    "from sklearn.svm import SVC\n",
    "from sklearn.model_selection import GridSearchCV\n",
    "from sklearn.metrics import accuracy_score, roc_auc_score,confusion_matrix\n",
    "import matplotlib.pyplot as plt\n",
    "import seaborn as sns"
   ]
  },
  {
   "cell_type": "code",
   "execution_count": 2,
   "metadata": {
    "collapsed": true
   },
   "outputs": [],
   "source": [
    "# Train_data is used as train, validation and test\n",
    "# Pred data is used for final output for submission, default set survived of pred to 0\n",
    "train_data = pd.read_csv(\"train.csv\", header = 0)\n",
    "pred_data = pd.read_csv(\"test.csv\", header = 0)\n",
    "pred_data['Survived'] = 0\n",
    "raw_data = pd.concat([train_data, pred_data])\n",
    "raw_data.index = raw_data.PassengerId\n",
    "train_data.tail();\n",
    "pred_data.head();"
   ]
  },
  {
   "cell_type": "code",
   "execution_count": 3,
   "metadata": {
    "collapsed": true
   },
   "outputs": [],
   "source": [
    "train_num = train_data.PassengerId.iloc[-1];"
   ]
  },
  {
   "cell_type": "code",
   "execution_count": 4,
   "metadata": {
    "collapsed": true
   },
   "outputs": [],
   "source": [
    "raw_data;"
   ]
  },
  {
   "cell_type": "code",
   "execution_count": 5,
   "metadata": {
    "collapsed": true
   },
   "outputs": [],
   "source": [
    "raw_data = pd.get_dummies(raw_data, columns=[\"Sex\",\"Embarked\"], prefix=[\"Sex\",\"Embarked\"])\n",
    "raw_data.Cabin = raw_data.Cabin.astype('category')\n",
    "raw_data.Cabin = raw_data.Cabin.cat.codes\n",
    "raw_data.head();"
   ]
  },
  {
   "cell_type": "code",
   "execution_count": 6,
   "metadata": {
    "collapsed": true
   },
   "outputs": [],
   "source": [
    "data = raw_data.select_dtypes(include=['int64','float64','uint8','int16']).copy()"
   ]
  },
  {
   "cell_type": "code",
   "execution_count": 9,
   "metadata": {
    "scrolled": true
   },
   "outputs": [],
   "source": [
    "# Try mode first for filling na but don't know why it doesn't work\n",
    "train = data[:train_num]\n",
    "train = train.fillna(train.mean())\n",
    "pred = data[train_num:]"
   ]
  },
  {
   "cell_type": "code",
   "execution_count": 153,
   "metadata": {
    "collapsed": true
   },
   "outputs": [],
   "source": [
    "X, y = train.loc[:, train.columns != 'Survived'], train.Survived\n",
    "X_train, X_test, y_train, y_test = train_test_split(X, y, test_size = 0.3, random_state = 42)\n",
    "# Scale dataset\n",
    "scaler = MinMaxScaler()\n",
    "scaler.fit(X_train)\n",
    "X_train_sc, X_test_sc = scaler.transform(X_train), scaler.transform(X_test)"
   ]
  },
  {
   "cell_type": "code",
   "execution_count": 154,
   "metadata": {},
   "outputs": [
    {
     "data": {
      "text/html": [
       "<div>\n",
       "<style>\n",
       "    .dataframe thead tr:only-child th {\n",
       "        text-align: right;\n",
       "    }\n",
       "\n",
       "    .dataframe thead th {\n",
       "        text-align: left;\n",
       "    }\n",
       "\n",
       "    .dataframe tbody tr th {\n",
       "        vertical-align: top;\n",
       "    }\n",
       "</style>\n",
       "<table border=\"1\" class=\"dataframe\">\n",
       "  <thead>\n",
       "    <tr style=\"text-align: right;\">\n",
       "      <th></th>\n",
       "      <th>0</th>\n",
       "      <th>1</th>\n",
       "      <th>2</th>\n",
       "      <th>3</th>\n",
       "      <th>4</th>\n",
       "      <th>5</th>\n",
       "      <th>6</th>\n",
       "      <th>7</th>\n",
       "      <th>8</th>\n",
       "      <th>9</th>\n",
       "      <th>10</th>\n",
       "      <th>11</th>\n",
       "    </tr>\n",
       "  </thead>\n",
       "  <tbody>\n",
       "    <tr>\n",
       "      <th>count</th>\n",
       "      <td>623.000000</td>\n",
       "      <td>623.000000</td>\n",
       "      <td>623.000000</td>\n",
       "      <td>623.000000</td>\n",
       "      <td>623.000000</td>\n",
       "      <td>623.000000</td>\n",
       "      <td>623.000000</td>\n",
       "      <td>623.000000</td>\n",
       "      <td>623.000000</td>\n",
       "      <td>623.000000</td>\n",
       "      <td>623.000000</td>\n",
       "      <td>623.000000</td>\n",
       "    </tr>\n",
       "    <tr>\n",
       "      <th>mean</th>\n",
       "      <td>0.363464</td>\n",
       "      <td>0.119729</td>\n",
       "      <td>0.062149</td>\n",
       "      <td>0.064473</td>\n",
       "      <td>0.500653</td>\n",
       "      <td>0.670947</td>\n",
       "      <td>0.072030</td>\n",
       "      <td>0.341894</td>\n",
       "      <td>0.658106</td>\n",
       "      <td>0.176565</td>\n",
       "      <td>0.088283</td>\n",
       "      <td>0.733547</td>\n",
       "    </tr>\n",
       "    <tr>\n",
       "      <th>std</th>\n",
       "      <td>0.163710</td>\n",
       "      <td>0.263166</td>\n",
       "      <td>0.099599</td>\n",
       "      <td>0.134615</td>\n",
       "      <td>0.292149</td>\n",
       "      <td>0.409972</td>\n",
       "      <td>0.152033</td>\n",
       "      <td>0.474725</td>\n",
       "      <td>0.474725</td>\n",
       "      <td>0.381607</td>\n",
       "      <td>0.283933</td>\n",
       "      <td>0.442459</td>\n",
       "    </tr>\n",
       "    <tr>\n",
       "      <th>min</th>\n",
       "      <td>0.000000</td>\n",
       "      <td>0.000000</td>\n",
       "      <td>0.000000</td>\n",
       "      <td>0.000000</td>\n",
       "      <td>0.000000</td>\n",
       "      <td>0.000000</td>\n",
       "      <td>0.000000</td>\n",
       "      <td>0.000000</td>\n",
       "      <td>0.000000</td>\n",
       "      <td>0.000000</td>\n",
       "      <td>0.000000</td>\n",
       "      <td>0.000000</td>\n",
       "    </tr>\n",
       "    <tr>\n",
       "      <th>25%</th>\n",
       "      <td>0.271174</td>\n",
       "      <td>0.000000</td>\n",
       "      <td>0.015469</td>\n",
       "      <td>0.000000</td>\n",
       "      <td>0.241573</td>\n",
       "      <td>0.500000</td>\n",
       "      <td>0.000000</td>\n",
       "      <td>0.000000</td>\n",
       "      <td>0.000000</td>\n",
       "      <td>0.000000</td>\n",
       "      <td>0.000000</td>\n",
       "      <td>0.000000</td>\n",
       "    </tr>\n",
       "    <tr>\n",
       "      <th>50%</th>\n",
       "      <td>0.367921</td>\n",
       "      <td>0.000000</td>\n",
       "      <td>0.028213</td>\n",
       "      <td>0.000000</td>\n",
       "      <td>0.508989</td>\n",
       "      <td>1.000000</td>\n",
       "      <td>0.000000</td>\n",
       "      <td>0.000000</td>\n",
       "      <td>1.000000</td>\n",
       "      <td>0.000000</td>\n",
       "      <td>0.000000</td>\n",
       "      <td>1.000000</td>\n",
       "    </tr>\n",
       "    <tr>\n",
       "      <th>75%</th>\n",
       "      <td>0.434531</td>\n",
       "      <td>0.000000</td>\n",
       "      <td>0.060020</td>\n",
       "      <td>0.000000</td>\n",
       "      <td>0.757865</td>\n",
       "      <td>1.000000</td>\n",
       "      <td>0.125000</td>\n",
       "      <td>1.000000</td>\n",
       "      <td>1.000000</td>\n",
       "      <td>0.000000</td>\n",
       "      <td>0.000000</td>\n",
       "      <td>1.000000</td>\n",
       "    </tr>\n",
       "    <tr>\n",
       "      <th>max</th>\n",
       "      <td>1.000000</td>\n",
       "      <td>1.000000</td>\n",
       "      <td>1.000000</td>\n",
       "      <td>1.000000</td>\n",
       "      <td>1.000000</td>\n",
       "      <td>1.000000</td>\n",
       "      <td>1.000000</td>\n",
       "      <td>1.000000</td>\n",
       "      <td>1.000000</td>\n",
       "      <td>1.000000</td>\n",
       "      <td>1.000000</td>\n",
       "      <td>1.000000</td>\n",
       "    </tr>\n",
       "  </tbody>\n",
       "</table>\n",
       "</div>"
      ],
      "text/plain": [
       "               0           1           2           3           4           5   \\\n",
       "count  623.000000  623.000000  623.000000  623.000000  623.000000  623.000000   \n",
       "mean     0.363464    0.119729    0.062149    0.064473    0.500653    0.670947   \n",
       "std      0.163710    0.263166    0.099599    0.134615    0.292149    0.409972   \n",
       "min      0.000000    0.000000    0.000000    0.000000    0.000000    0.000000   \n",
       "25%      0.271174    0.000000    0.015469    0.000000    0.241573    0.500000   \n",
       "50%      0.367921    0.000000    0.028213    0.000000    0.508989    1.000000   \n",
       "75%      0.434531    0.000000    0.060020    0.000000    0.757865    1.000000   \n",
       "max      1.000000    1.000000    1.000000    1.000000    1.000000    1.000000   \n",
       "\n",
       "               6           7           8           9           10          11  \n",
       "count  623.000000  623.000000  623.000000  623.000000  623.000000  623.000000  \n",
       "mean     0.072030    0.341894    0.658106    0.176565    0.088283    0.733547  \n",
       "std      0.152033    0.474725    0.474725    0.381607    0.283933    0.442459  \n",
       "min      0.000000    0.000000    0.000000    0.000000    0.000000    0.000000  \n",
       "25%      0.000000    0.000000    0.000000    0.000000    0.000000    0.000000  \n",
       "50%      0.000000    0.000000    1.000000    0.000000    0.000000    1.000000  \n",
       "75%      0.125000    1.000000    1.000000    0.000000    0.000000    1.000000  \n",
       "max      1.000000    1.000000    1.000000    1.000000    1.000000    1.000000  "
      ]
     },
     "execution_count": 154,
     "metadata": {},
     "output_type": "execute_result"
    }
   ],
   "source": [
    "# train.Fare.plot()\n",
    "# plt.show()\n",
    "pd.DataFrame(X_train_sc).describe()"
   ]
  },
  {
   "cell_type": "code",
   "execution_count": 164,
   "metadata": {
    "scrolled": true
   },
   "outputs": [
    {
     "name": "stdout",
     "output_type": "stream",
     "text": [
      "LogisticRegression(C=3.85, class_weight=None, dual=False, fit_intercept=True,\n",
      "          intercept_scaling=1, max_iter=10000, multi_class='ovr', n_jobs=1,\n",
      "          penalty='l1', random_state=123, solver='liblinear', tol=0.0001,\n",
      "          verbose=0, warm_start=False)\n",
      "0.802568218299\n"
     ]
    }
   ],
   "source": [
    "# Model1: Logistic Regression\n",
    "param = {\"C\":[1,1.5,1.6,1.7,1.8,1.9,2,2.1,2.2,2.3,2.4,2.5,3,3.5,3.84,3.85,3.88,3.9,3.95,4,4.1,4.3,4.5,5,6]}#np.power(10.0, np.arange(-10, 10))}\n",
    "clf = LogisticRegression(penalty ='l1', random_state = 123,max_iter=10000)\n",
    "gs_lr = GridSearchCV(clf, param, cv = 5, scoring = 'accuracy')\n",
    "gs_lr.fit(X_train_sc,y_train)\n",
    "print(gs_lr.best_estimator_)\n",
    "print(gs_lr.best_score_)"
   ]
  },
  {
   "cell_type": "code",
   "execution_count": 165,
   "metadata": {},
   "outputs": [
    {
     "name": "stdout",
     "output_type": "stream",
     "text": [
      "[[135  22]\n",
      " [ 29  82]]\n",
      "0.799305675102\n",
      "0.809701492537\n"
     ]
    }
   ],
   "source": [
    "pred_lr = gs_lr.predict(X_test_sc)\n",
    "score = accuracy_score(y_test,pred_lr)\n",
    "cm = confusion_matrix(y_test,pred_lr)\n",
    "print(cm)\n",
    "print(roc_auc_score(y_test,pred_lr))\n",
    "print(score)"
   ]
  },
  {
   "cell_type": "code",
   "execution_count": 166,
   "metadata": {
    "scrolled": false
   },
   "outputs": [
    {
     "data": {
      "image/png": "[encoded data removed]",
      "text/plain": [
       "<matplotlib.figure.Figure at 0x11a268898>"
      ]
     },
     "metadata": {},
     "output_type": "display_data"
    }
   ],
   "source": [
    "plt.figure(figsize=(6,6))\n",
    "sns.heatmap(cm, annot=True, fmt=\".3f\",linewidth=.5,square=True,cmap='Blues_r')\n",
    "plt.ylabel('Actual label')\n",
    "plt.xlabel('Predicted lable')\n",
    "all_sample_title = 'Accuracy Score:{0}'.format(score)\n",
    "plt.title(all_sample_title, size=15)\n",
    "plt.show()"
   ]
  },
  {
   "cell_type": "code",
   "execution_count": 170,
   "metadata": {},
   "outputs": [
    {
     "name": "stdout",
     "output_type": "stream",
     "text": [
      "SGDClassifier(alpha=0.0001, average=False, class_weight=None, epsilon=0.1,\n",
      "       eta0=0.0, fit_intercept=True, l1_ratio=0.001,\n",
      "       learning_rate='optimal', loss='log', n_iter=100, n_jobs=-1,\n",
      "       penalty='elasticnet', power_t=0.5, random_state=123, shuffle=True,\n",
      "       verbose=0, warm_start=False)\n",
      "0.802568218299\n"
     ]
    }
   ],
   "source": [
    "# Model2: elastic nets\n",
    "param = {'alpha':[0.00001,0.0001,0.001,0.01,0.1,1,2],\n",
    "         'l1_ratio':[0.001,0.01,0.1,0.15,0.2,0.25,0.3,0.5,0.7,0.9,1],\n",
    "        'loss':['log','hinge','modified_huber']}\n",
    "clf = SGDClassifier(penalty ='elasticnet', random_state = 123,n_jobs=-1,learning_rate = 'optimal',n_iter = 100)\n",
    "gs_ela = GridSearchCV(clf, param, cv = 5, scoring = 'accuracy')\n",
    "gs_ela.fit(X_train_sc,y_train)\n",
    "print(gs_ela.best_estimator_)\n",
    "print(gs_ela.best_score_)"
   ]
  },
  {
   "cell_type": "code",
   "execution_count": 171,
   "metadata": {},
   "outputs": [
    {
     "name": "stdout",
     "output_type": "stream",
     "text": [
      "[[137  20]\n",
      " [ 33  78]]\n",
      "0.787657083835\n",
      "0.80223880597\n"
     ]
    }
   ],
   "source": [
    "pred_ela = gs_ela.predict(X_test_sc)\n",
    "score_ela = accuracy_score(y_test,pred_ela)\n",
    "cm_ela = confusion_matrix(y_test,pred_ela)\n",
    "print(cm_ela)\n",
    "print(roc_auc_score(y_test,pred_ela))\n",
    "print(score_ela)"
   ]
  },
  {
   "cell_type": "code",
   "execution_count": 172,
   "metadata": {},
   "outputs": [
    {
     "data": {
      "image/png": "[encoded data removed]",
      "text/plain": [
       "<matplotlib.figure.Figure at 0x11a13b080>"
      ]
     },
     "metadata": {},
     "output_type": "display_data"
    }
   ],
   "source": [
    "plt.figure(figsize=(6,6))\n",
    "sns.heatmap(cm_ela, annot=True, fmt=\".3f\",linewidth=.5,square=True,cmap='Blues_r')\n",
    "plt.ylabel('Actual label')\n",
    "plt.xlabel('Predicted lable')\n",
    "all_sample_title = 'Accuracy Score:{0}'.format(score_ela)\n",
    "plt.title(all_sample_title, size=15)\n",
    "plt.show()"
   ]
  },
  {
   "cell_type": "code",
   "execution_count": 177,
   "metadata": {},
   "outputs": [
    {
     "name": "stdout",
     "output_type": "stream",
     "text": [
      "SVC(C=2, cache_size=200, class_weight=None, coef0=0.0,\n",
      "  decision_function_shape=None, degree=1, gamma='auto', kernel='rbf',\n",
      "  max_iter=-1, probability=True, random_state=123, shrinking=True,\n",
      "  tol=0.0001, verbose=False)\n",
      "0.786516853933\n"
     ]
    }
   ],
   "source": [
    "# Model3: Kernel SVC\n",
    "param = {'C':[0.1,1,1.5,2,2.1,2.5,3],\n",
    "        'kernel':['rbf','poly','sigmoid'],\n",
    "        'degree':[1,2,3,4]}\n",
    "clf = SVC(random_state = 123,tol = 0.0001,probability = True)\n",
    "gs_svc = GridSearchCV(clf, param, cv = 5, scoring = 'accuracy',n_jobs = -1)\n",
    "gs_svc.fit(X_train_sc,y_train)\n",
    "print(gs_svc.best_estimator_)\n",
    "print(gs_svc.best_score_)"
   ]
  },
  {
   "cell_type": "code",
   "execution_count": 180,
   "metadata": {},
   "outputs": [
    {
     "name": "stdout",
     "output_type": "stream",
     "text": [
      "[[134  23]\n",
      " [ 33  78]]\n",
      "0.778102943708\n",
      "0.791044776119\n"
     ]
    }
   ],
   "source": [
    "pred_svc = gs_svc.predict(X_test_sc)\n",
    "score_svc = accuracy_score(y_test,pred_svc)\n",
    "cm_svc = confusion_matrix(y_test,pred_svc)\n",
    "print(cm_svc)\n",
    "print(roc_auc_score(y_test,pred_svc))\n",
    "print(score_svc)"
   ]
  },
  {
   "cell_type": "code",
   "execution_count": 181,
   "metadata": {},
   "outputs": [
    {
     "data": {
      "image/png": "[encoded data removed]",
      "text/plain": [
       "<matplotlib.figure.Figure at 0x11a1e4a90>"
      ]
     },
     "metadata": {},
     "output_type": "display_data"
    }
   ],
   "source": [
    "plt.figure(figsize=(6,6))\n",
    "sns.heatmap(cm_svc, annot=True, fmt=\".3f\",linewidth=.5,square=True,cmap='Blues_r')\n",
    "plt.ylabel('Actual label')\n",
    "plt.xlabel('Predicted lable')\n",
    "all_sample_title = 'Accuracy Score:{0}'.format(score_svc)\n",
    "plt.title(all_sample_title, size=15)\n",
    "plt.show()"
   ]
  },
  {
   "cell_type": "code",
   "execution_count": null,
   "metadata": {
    "collapsed": true
   },
   "outputs": [],
   "source": []
  }
 ],
 "metadata": {
  "kernelspec": {
   "display_name": "Python 3",
   "language": "python",
   "name": "python3"
  },
  "language_info": {
   "codemirror_mode": {
    "name": "ipython",
    "version": 3
   },
   "file_extension": ".py",
   "mimetype": "text/x-python",
   "name": "python",
   "nbconvert_exporter": "python",
   "pygments_lexer": "ipython3",
   "version": "3.6.1"
  }
 },
 "nbformat": 4,
 "nbformat_minor": 2
}
