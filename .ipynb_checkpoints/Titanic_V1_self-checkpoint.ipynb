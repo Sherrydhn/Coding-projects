{
 "cells": [
  {
   "cell_type": "code",
   "execution_count": 1,
   "metadata": {},
   "outputs": [
    {
     "ename": "NameError",
     "evalue": "name 'train_data' is not defined",
     "output_type": "error",
     "traceback": [
      "\u001b[0;31m---------------------------------------------------------------------------\u001b[0m",
      "\u001b[0;31mNameError\u001b[0m                                 Traceback (most recent call last)",
      "\u001b[0;32m<ipython-input-1-647a3b0f74d9>\u001b[0m in \u001b[0;36m<module>\u001b[0;34m()\u001b[0m\n\u001b[0;32m----> 1\u001b[0;31m \u001b[0mtrain_num\u001b[0m \u001b[0;34m=\u001b[0m \u001b[0mtrain_data\u001b[0m\u001b[0;34m.\u001b[0m\u001b[0mPassengerId\u001b[0m\u001b[0;34m.\u001b[0m\u001b[0miloc\u001b[0m\u001b[0;34m[\u001b[0m\u001b[0;34m-\u001b[0m\u001b[0;36m1\u001b[0m\u001b[0;34m]\u001b[0m\u001b[0;34m;\u001b[0m\u001b[0;34m\u001b[0m\u001b[0m\n\u001b[0m\u001b[1;32m      2\u001b[0m \u001b[0mraw_data\u001b[0m \u001b[0;34m=\u001b[0m \u001b[0mpd\u001b[0m\u001b[0;34m.\u001b[0m\u001b[0mget_dummies\u001b[0m\u001b[0;34m(\u001b[0m\u001b[0mraw_data\u001b[0m\u001b[0;34m,\u001b[0m \u001b[0mcolumns\u001b[0m\u001b[0;34m=\u001b[0m\u001b[0;34m[\u001b[0m\u001b[0;34m\"Sex\"\u001b[0m\u001b[0;34m,\u001b[0m\u001b[0;34m\"Embarked\"\u001b[0m\u001b[0;34m]\u001b[0m\u001b[0;34m,\u001b[0m \u001b[0mprefix\u001b[0m\u001b[0;34m=\u001b[0m\u001b[0;34m[\u001b[0m\u001b[0;34m\"Sex\"\u001b[0m\u001b[0;34m,\u001b[0m\u001b[0;34m\"Embarked\"\u001b[0m\u001b[0;34m]\u001b[0m\u001b[0;34m)\u001b[0m\u001b[0;34m\u001b[0m\u001b[0m\n\u001b[1;32m      3\u001b[0m \u001b[0mraw_data\u001b[0m\u001b[0;34m.\u001b[0m\u001b[0mCabin\u001b[0m \u001b[0;34m=\u001b[0m \u001b[0mraw_data\u001b[0m\u001b[0;34m.\u001b[0m\u001b[0mCabin\u001b[0m\u001b[0;34m.\u001b[0m\u001b[0mastype\u001b[0m\u001b[0;34m(\u001b[0m\u001b[0;34m'category'\u001b[0m\u001b[0;34m)\u001b[0m\u001b[0;34m\u001b[0m\u001b[0m\n\u001b[1;32m      4\u001b[0m \u001b[0mraw_data\u001b[0m\u001b[0;34m.\u001b[0m\u001b[0mCabin\u001b[0m \u001b[0;34m=\u001b[0m \u001b[0mraw_data\u001b[0m\u001b[0;34m.\u001b[0m\u001b[0mCabin\u001b[0m\u001b[0;34m.\u001b[0m\u001b[0mcat\u001b[0m\u001b[0;34m.\u001b[0m\u001b[0mcodes\u001b[0m\u001b[0;34m\u001b[0m\u001b[0m\n\u001b[1;32m      5\u001b[0m \u001b[0mraw_data\u001b[0m\u001b[0;34m.\u001b[0m\u001b[0mhead\u001b[0m\u001b[0;34m(\u001b[0m\u001b[0;34m)\u001b[0m\u001b[0;34m;\u001b[0m\u001b[0;34m\u001b[0m\u001b[0m\n",
      "\u001b[0;31mNameError\u001b[0m: name 'train_data' is not defined"
     ]
    }
   ],
   "source": [
    "train_num = train_data.PassengerId.iloc[-1];\n",
    "raw_data = pd.get_dummies(raw_data, columns=[\"Sex\",\"Embarked\"], prefix=[\"Sex\",\"Embarked\"])\n",
    "raw_data.Cabin = raw_data.Cabin.astype('category')\n",
    "raw_data.Cabin = raw_data.Cabin.cat.codes\n",
    "raw_data.head();\n",
    "data = raw_data.select_dtypes(include=['int64','float64','uint8','int16']).copy()\n",
    "# Try mode first for filling na but don't know why it doesn't work\n",
    "train = data[:train_num]\n",
    "train = train.fillna(train.mean())\n",
    "pred = data[train_num:]\n",
    "X, y = train.loc[:, train.columns != 'Survived'], train.Survived\n",
    "X_train, X_test, y_train, y_test = train_test_split(X, y, test_size = 0.3, random_state = 42)\n",
    "# Scale dataset\n",
    "scaler = MinMaxScaler()\n",
    "scaler.fit(X_train)\n",
    "X_train_sc, X_test_sc = scaler.transform(X_train), scaler.transform(X_test)\n",
    "# train.Fare.plot()\n",
    "# plt.show()\n",
    "pd.DataFrame(X_train_sc).describe()\n",
    "data\n",
    "# female has higher prob survive; child/old has higher; higher fare stands for rich which has higher survival?\n",
    "# how to import domain knowledge: give more weights to these features?\n",
    "# feature engineering give range of age for several categories: old, child, normal?\n",
    "# How to deal with Cabin?\n"
   ]
  },
  {
   "cell_type": "code",
   "execution_count": null,
   "metadata": {
    "collapsed": true
   },
   "outputs": [],
   "source": [
    "# Model1: Logistic Regression\n",
    "param = {\"C\":[1,1.5,1.6,1.7,1.8,1.9,2,2.1,2.2,2.3,2.4,2.5,3,3.5,3.84,3.85,3.88,3.9,3.95,4,4.1,4.3,4.5,5,6]}#np.power(10.0, np.arange(-10, 10))}\n",
    "clf = LogisticRegression(penalty ='l1', random_state = 123,max_iter=10000)\n",
    "gs_lr = GridSearchCV(clf, param, cv = 5, scoring = 'accuracy')\n",
    "gs_lr.fit(X_train_sc,y_train)\n",
    "print(gs_lr.best_estimator_)\n",
    "print(gs_lr.best_score_)\n",
    "pred_lr = gs_lr.predict(X_test_sc)\n",
    "score = accuracy_score(y_test,pred_lr)\n",
    "cm = confusion_matrix(y_test,pred_lr)\n",
    "print(cm)\n",
    "print(roc_auc_score(y_test,pred_lr))\n",
    "print(score)\n",
    "plt.figure(figsize=(6,6))\n",
    "sns.heatmap(cm, annot=True, fmt=\".3f\",linewidth=.5,square=True,cmap='Blues_r')\n",
    "plt.ylabel('Actual label')\n",
    "plt.xlabel('Predicted lable')\n",
    "all_sample_title = 'Accuracy Score:{0}'.format(score)\n",
    "plt.title(all_sample_title, size=15)\n",
    "plt.show()"
   ]
  },
  {
   "cell_type": "code",
   "execution_count": null,
   "metadata": {
    "collapsed": true
   },
   "outputs": [],
   "source": [
    "# Model2: elastic nets\n",
    "param = {'alpha':[0.00001,0.0001,0.001,0.01,0.1,1,2],\n",
    "         'l1_ratio':[0.001,0.01,0.1,0.15,0.2,0.25,0.3,0.5,0.7,0.9,1],\n",
    "        'loss':['log','hinge','modified_huber']}\n",
    "clf = SGDClassifier(penalty ='elasticnet', random_state = 123,n_jobs=-1,learning_rate = 'optimal',n_iter = 100)\n",
    "gs_ela = GridSearchCV(clf, param, cv = 5, scoring = 'accuracy')\n",
    "gs_ela.fit(X_train_sc,y_train)\n",
    "print(gs_ela.best_estimator_)\n",
    "print(gs_ela.best_score_)\n",
    "pred_ela = gs_ela.predict(X_test_sc)\n",
    "score_ela = accuracy_score(y_test,pred_ela)\n",
    "cm_ela = confusion_matrix(y_test,pred_ela)\n",
    "print(cm_ela)\n",
    "print(roc_auc_score(y_test,pred_ela))\n",
    "print(score_ela)\n",
    "plt.figure(figsize=(6,6))\n",
    "sns.heatmap(cm_ela, annot=True, fmt=\".3f\",linewidth=.5,square=True,cmap='Blues_r')\n",
    "plt.ylabel('Actual label')\n",
    "plt.xlabel('Predicted lable')\n",
    "all_sample_title = 'Accuracy Score:{0}'.format(score_ela)\n",
    "plt.title(all_sample_title, size=15)\n",
    "plt.show()"
   ]
  },
  {
   "cell_type": "code",
   "execution_count": null,
   "metadata": {
    "collapsed": true
   },
   "outputs": [],
   "source": [
    "# Model3: Kernel SVC\n",
    "param = {'C':[0.1,1,1.5,2,2.1,2.5,3],\n",
    "        'kernel':['rbf','poly','sigmoid'],\n",
    "        'degree':[1,2,3,4]}\n",
    "clf = SVC(random_state = 123,tol = 0.0001,probability = True)\n",
    "gs_svc = GridSearchCV(clf, param, cv = 5, scoring = 'accuracy',n_jobs = -1)\n",
    "gs_svc.fit(X_train_sc,y_train)\n",
    "print(gs_svc.best_estimator_)\n",
    "print(gs_svc.best_score_)\n",
    "pred_svc = gs_svc.predict(X_test_sc)\n",
    "score_svc = accuracy_score(y_test,pred_svc)\n",
    "cm_svc = confusion_matrix(y_test,pred_svc)\n",
    "print(cm_svc)\n",
    "print(roc_auc_score(y_test,pred_svc))\n",
    "print(score_svc)\n",
    "plt.figure(figsize=(6,6))\n",
    "sns.heatmap(cm_svc, annot=True, fmt=\".3f\",linewidth=.5,square=True,cmap='Blues_r')\n",
    "plt.ylabel('Actual label')\n",
    "plt.xlabel('Predicted lable')\n",
    "all_sample_title = 'Accuracy Score:{0}'.format(score_svc)\n",
    "plt.title(all_sample_title, size=15)\n",
    "plt.show()"
   ]
  },
  {
   "cell_type": "code",
   "execution_count": null,
   "metadata": {
    "collapsed": true
   },
   "outputs": [],
   "source": [
    "# Model4: XGBOOST\n",
    "# X, y = train_data.loc[:, train_data.columns != 'Survived'], train_data.Survived\n",
    "# X_train, X_test, y_train, y_test = train_test_split(X, y, test_size = 0.3, random_state = 42)\n",
    "clf = xgb.XGBClassifier()\n",
    "clf.fit(X_train_sc,y_train)\n",
    "pred = clf.predict(X_test_sc)\n",
    "accuracy_score(y_test,pred)"
   ]
  }
 ],
 "metadata": {
  "kernelspec": {
   "display_name": "Python 3",
   "language": "python",
   "name": "python3"
  },
  "language_info": {
   "codemirror_mode": {
    "name": "ipython",
    "version": 3
   },
   "file_extension": ".py",
   "mimetype": "text/x-python",
   "name": "python",
   "nbconvert_exporter": "python",
   "pygments_lexer": "ipython3",
   "version": "3.6.1"
  }
 },
 "nbformat": 4,
 "nbformat_minor": 2
}
